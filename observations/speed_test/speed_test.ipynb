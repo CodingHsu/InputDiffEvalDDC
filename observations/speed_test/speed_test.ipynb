{
 "cells": [
  {
   "cell_type": "code",
   "execution_count": 1,
   "id": "a737ec12-82d2-4f01-8ad5-3274f7a8c19d",
   "metadata": {},
   "outputs": [],
   "source": [
    "import explore_input_diff # from https://github.com/BJSeok/InputDiffExplorePCA/tree/master\n",
    "import time"
   ]
  },
  {
   "cell_type": "code",
   "execution_count": 2,
   "id": "02475453-6e43-4f0a-80bd-091234840926",
   "metadata": {},
   "outputs": [
    {
     "name": "stdout",
     "output_type": "stream",
     "text": [
      "Explore SPECK-32/64 nr5 input difference...\n"
     ]
    }
   ],
   "source": [
    "print('Explore SPECK-32/64 nr5 input difference...')"
   ]
  },
  {
   "cell_type": "code",
   "execution_count": 3,
   "id": "c78904ae-d5b8-498e-af2b-f235c16b9d53",
   "metadata": {},
   "outputs": [
    {
     "name": "stdout",
     "output_type": "stream",
     "text": [
      "- Hamming weight: 1\n",
      "  * Elapsed time: 521.8515305519104 sec\n"
     ]
    }
   ],
   "source": [
    "print('- Hamming weight: 1')\n",
    "start_time = time.time()\n",
    "explore_input_diff.explore_input_difference(blocksize=32, wordsize=16, nr=5, datasize=100000, hamming_weight=1, t0=0.003, n_components=3, savepath=\"./speed_results/speck_32_64_nr5_hw_1.txt\")\n",
    "end_time = time.time()\n",
    "print(f'  * Elapsed time: {end_time - start_time} sec')"
   ]
  },
  {
   "cell_type": "code",
   "execution_count": 4,
   "id": "75237d6c-68b0-46b8-b7ac-e6dc8a98362b",
   "metadata": {},
   "outputs": [
    {
     "name": "stdout",
     "output_type": "stream",
     "text": [
      "- Hamming weight: 2\n",
      "  * Elapsed time: 3241.024164199829 sec\n"
     ]
    }
   ],
   "source": [
    "print('- Hamming weight: 2')\n",
    "start_time = time.time()\n",
    "explore_input_diff.explore_input_difference(blocksize=32, wordsize=16, nr=5, datasize=100000, hamming_weight=2, t0=0.003, n_components=3, savepath=\"./speed_results/speck_32_64_nr5_hw_2.txt\")\n",
    "end_time = time.time()\n",
    "print(f'  * Elapsed time: {end_time - start_time} sec')"
   ]
  },
  {
   "cell_type": "code",
   "execution_count": 3,
   "id": "db7992d2-60c7-475d-979d-b53155bb4657",
   "metadata": {},
   "outputs": [
    {
     "name": "stdout",
     "output_type": "stream",
     "text": [
      "Explore SIMON-32/64 nr8 input difference...\n"
     ]
    }
   ],
   "source": [
    "print('Explore SIMON-32/64 nr8 input difference...')"
   ]
  },
  {
   "cell_type": "code",
   "execution_count": 4,
   "id": "0843c896-dda1-4995-b283-e50e27c2f443",
   "metadata": {},
   "outputs": [
    {
     "name": "stdout",
     "output_type": "stream",
     "text": [
      "- Hamming weight: 1\n",
      "  * Elapsed time: 2714.7211408615112 sec\n"
     ]
    }
   ],
   "source": [
    "print('- Hamming weight: 1')\n",
    "start_time = time.time()\n",
    "explore_input_diff.explore_input_difference(alg='simon_32_64', blocksize=32, wordsize=16, nr=8, datasize=100000, hamming_weight=1, t0=0.002, t1=2, n_components=2, savepath=\"./speed_results/simon_32_64_nr8_hw_1_ver2.txt\")\n",
    "end_time = time.time()\n",
    "print(f'  * Elapsed time: {end_time - start_time} sec')"
   ]
  },
  {
   "cell_type": "code",
   "execution_count": 5,
   "id": "864edff3-5674-4e37-ab1e-d644c43b02b7",
   "metadata": {},
   "outputs": [
    {
     "name": "stdout",
     "output_type": "stream",
     "text": [
      "- Hamming weight: 2\n",
      "  * Elapsed time: 3131.891719341278 sec\n"
     ]
    }
   ],
   "source": [
    "print('- Hamming weight: 2')\n",
    "start_time = time.time()\n",
    "explore_input_diff.explore_input_difference(alg='simon_32_64', blocksize=32, wordsize=16, nr=8, datasize=100000, hamming_weight=2, t0=0.002, t1=2, n_components=2, savepath=\"./speed_results/simon_32_64_nr8_hw_2_ver2.txt\")\n",
    "end_time = time.time()\n",
    "print(f'  * Elapsed time: {end_time - start_time} sec')"
   ]
  },
  {
   "cell_type": "code",
   "execution_count": null,
   "id": "501ea555-b7b9-4d88-83d0-b1e96c2f0016",
   "metadata": {},
   "outputs": [],
   "source": []
  }
 ],
 "metadata": {
  "kernelspec": {
   "display_name": "tf2.6",
   "language": "python",
   "name": "tensorflow26"
  },
  "language_info": {
   "codemirror_mode": {
    "name": "ipython",
    "version": 3
   },
   "file_extension": ".py",
   "mimetype": "text/x-python",
   "name": "python",
   "nbconvert_exporter": "python",
   "pygments_lexer": "ipython3",
   "version": "3.8.16"
  }
 },
 "nbformat": 4,
 "nbformat_minor": 5
}
